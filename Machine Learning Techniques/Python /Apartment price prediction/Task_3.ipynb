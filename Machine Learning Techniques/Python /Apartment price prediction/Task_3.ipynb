{
 "cells": [
  {
   "cell_type": "code",
   "execution_count": 2,
   "metadata": {
    "id": "qk3jxRr_X022"
   },
   "outputs": [
    {
     "ename": "ModuleNotFoundError",
     "evalue": "No module named 'seaborn'",
     "output_type": "error",
     "traceback": [
      "\u001b[31m---------------------------------------------------------------------------\u001b[39m",
      "\u001b[31mModuleNotFoundError\u001b[39m                       Traceback (most recent call last)",
      "\u001b[36mCell\u001b[39m\u001b[36m \u001b[39m\u001b[32mIn[2]\u001b[39m\u001b[32m, line 3\u001b[39m\n\u001b[32m      1\u001b[39m \u001b[38;5;28;01mimport\u001b[39;00m\u001b[38;5;250m \u001b[39m\u001b[34;01mnumpy\u001b[39;00m\u001b[38;5;250m \u001b[39m\u001b[38;5;28;01mas\u001b[39;00m\u001b[38;5;250m \u001b[39m\u001b[34;01mnp\u001b[39;00m\n\u001b[32m      2\u001b[39m \u001b[38;5;28;01mimport\u001b[39;00m\u001b[38;5;250m \u001b[39m\u001b[34;01mpandas\u001b[39;00m\u001b[38;5;250m \u001b[39m\u001b[38;5;28;01mas\u001b[39;00m\u001b[38;5;250m \u001b[39m\u001b[34;01mpd\u001b[39;00m\n\u001b[32m----> \u001b[39m\u001b[32m3\u001b[39m \u001b[38;5;28;01mimport\u001b[39;00m\u001b[38;5;250m \u001b[39m\u001b[34;01mseaborn\u001b[39;00m\u001b[38;5;250m \u001b[39m\u001b[38;5;28;01mas\u001b[39;00m\u001b[38;5;250m \u001b[39m\u001b[34;01msns\u001b[39;00m\n\u001b[32m      4\u001b[39m \u001b[38;5;28;01mimport\u001b[39;00m\u001b[38;5;250m \u001b[39m\u001b[34;01mmatplotlib\u001b[39;00m\u001b[34;01m.\u001b[39;00m\u001b[34;01mpyplot\u001b[39;00m\u001b[38;5;250m \u001b[39m\u001b[38;5;28;01mas\u001b[39;00m\u001b[38;5;250m \u001b[39m\u001b[34;01mplt\u001b[39;00m\n\u001b[32m      5\u001b[39m \u001b[38;5;28;01mfrom\u001b[39;00m\u001b[38;5;250m \u001b[39m\u001b[34;01msklearn\u001b[39;00m\u001b[34;01m.\u001b[39;00m\u001b[34;01mpreprocessing\u001b[39;00m\u001b[38;5;250m \u001b[39m\u001b[38;5;28;01mimport\u001b[39;00m StandardScaler\n",
      "\u001b[31mModuleNotFoundError\u001b[39m: No module named 'seaborn'"
     ]
    }
   ],
   "source": [
    "import numpy as np\n",
    "import pandas as pd\n",
    "import seaborn as sns\n",
    "import matplotlib.pyplot as plt\n",
    "from sklearn.preprocessing import StandardScaler\n",
    "import plotly.express as px\n",
    "\n",
    "\n",
    "from sklearn.cluster import KMeans                        # for KMeans\n",
    "from scipy.cluster.hierarchy import dendrogram, linkage   # hierarchical clustering\n",
    "from sklearn.decomposition import PCA                     # for PCA\n",
    "\n",
    "from scipy.spatial.distance import pdist\n",
    "from scipy.cluster.hierarchy import linkage, dendrogram"
   ]
  },
  {
   "cell_type": "code",
   "execution_count": null,
   "metadata": {
    "colab": {
     "base_uri": "https://localhost:8080/",
     "height": 206
    },
    "id": "BHWqODEKYGlp",
    "outputId": "633631ad-e95e-427d-bf04-7a3b240b3dd0"
   },
   "outputs": [],
   "source": [
    "df = pd.read_csv('apartments_for_rent.csv')\n",
    "df.head()"
   ]
  },
  {
   "cell_type": "markdown",
   "metadata": {
    "id": "Ym9Px9GP_wPz"
   },
   "source": [
    "# Data Visualization"
   ]
  },
  {
   "cell_type": "code",
   "execution_count": null,
   "metadata": {
    "colab": {
     "base_uri": "https://localhost:8080/",
     "height": 1000
    },
    "id": "QOVwBasWDAGk",
    "outputId": "6abd6864-cbbb-44d6-987c-ebdc2bd0f40f"
   },
   "outputs": [],
   "source": [
    "# Histogram of price\n",
    "fig = px.histogram(df, x=\"price\", nbins=50, title=\"Distribution of Apartment Prices\")\n",
    "fig.show()\n",
    "\n",
    "# Scatter plot of price\n",
    "fig = px.scatter(df, x=\"square_feet\", y=\"price\", title=\"Price vs. Size\")\n",
    "fig.show()"
   ]
  },
  {
   "cell_type": "code",
   "execution_count": null,
   "metadata": {
    "colab": {
     "base_uri": "https://localhost:8080/",
     "height": 175
    },
    "id": "qt8O3bON9GPU",
    "outputId": "3c70eff1-a5be-4be4-f4b5-37cc130823b8"
   },
   "outputs": [],
   "source": [
    "df[df['square_feet'] >= 20000]"
   ]
  },
  {
   "cell_type": "code",
   "execution_count": null,
   "metadata": {
    "id": "XzAjfbGQ5hs9"
   },
   "outputs": [],
   "source": [
    "# Removing the Outliers from dataframe\n",
    "df = df[df['square_feet'] < 20000]"
   ]
  },
  {
   "cell_type": "code",
   "execution_count": null,
   "metadata": {
    "colab": {
     "base_uri": "https://localhost:8080/",
     "height": 1000
    },
    "id": "sWLKvbrZCWnY",
    "outputId": "f42905c0-47f7-4f6c-88a6-b0bb60bf6b7b"
   },
   "outputs": [],
   "source": [
    "# Scatter plot for Square Feet vs Price\n",
    "fig = px.scatter(df, x='square_feet', y='price', color='state', hover_data=['id'])\n",
    "fig.update_layout(title='Apartment Price vs. square_feet',\n",
    "                  xaxis_title='square_feet (sqft)',\n",
    "                  yaxis_title='Price ($)')\n",
    "fig.show()\n",
    "\n",
    "# A 3d Scatter plot for Square Feet vs Bedrooms vs Price\n",
    "fig = px.scatter_3d(df, x='square_feet', y='price', z='bedrooms', color='state', hover_data=['id'])\n",
    "fig.update_layout(title='Apartment Price vs. square_feet vs. Rooms',\n",
    "                  scene=dict(\n",
    "                      xaxis_title='square_feet (sqft)',\n",
    "                      yaxis_title='Price ($)',\n",
    "                      zaxis_title='Number of Rooms'))\n",
    "fig.show()\n",
    "\n",
    "# Histogram for Price Distribution by location\n",
    "fig = px.histogram(df, x='price', color='state', nbins=50, title=\"Price Distribution by Location\")\n",
    "fig.show()\n",
    "\n",
    "# Box plot for State vs Price\n",
    "fig = px.box(df, x=\"state\", y=\"price\", points=\"all\")\n",
    "fig.show()\n",
    "\n",
    "# Correlation heatmap\n",
    "correlation_matrix = df[['price', 'square_feet', 'bedrooms', 'bathrooms']].corr()\n",
    "fig = px.imshow(correlation_matrix, text_auto=True, color_continuous_scale='RdBu')\n",
    "fig.show()\n",
    "\n",
    "# Price vs bedrooms\n",
    "fig = px.scatter(df, x='bedrooms', y='price')\n",
    "fig.update_layout(title='Price vs. Bedrooms')\n",
    "fig.show()\n",
    "\n",
    "# Bedrooms vs bathrooms, color = payment_type\n",
    "fig = px.scatter(df, x='bedrooms', y='bathrooms', color='price_type')\n",
    "fig.update_layout(title='Bedrooms vs. Bathrooms (Colored by Payment Type)')\n",
    "fig.show()\n",
    "\n",
    "# Price vs square_feet, color = bedrooms\n",
    "fig = px.scatter(df, x='square_feet', y='price', color='bedrooms')\n",
    "fig.update_layout(title='Price vs. Square Feet (Colored by Number of Bedrooms)')\n",
    "fig.show()"
   ]
  },
  {
   "cell_type": "markdown",
   "metadata": {
    "id": "nfxpK75kAeCG"
   },
   "source": [
    "# Data Preprocessing"
   ]
  },
  {
   "cell_type": "code",
   "execution_count": null,
   "metadata": {
    "colab": {
     "base_uri": "https://localhost:8080/"
    },
    "id": "Ynu2txSx7zkn",
    "outputId": "3f3848dc-cb05-465b-df09-470719475530"
   },
   "outputs": [],
   "source": [
    "# Printing the rows that have bathrooms more than 100 and bedrooms more than 15\n",
    "print(df[(df['bathrooms'] > 100)])\n",
    "print(df[(df['bedrooms'] > 15)])"
   ]
  },
  {
   "cell_type": "code",
   "execution_count": null,
   "metadata": {
    "id": "9BViNnFp8Y81"
   },
   "outputs": [],
   "source": [
    "#Removing the outliers rows from df\n",
    "df = df[(df['bathrooms'] <= 100)]\n",
    "df = df[(df['bedrooms'] <= 15)]"
   ]
  },
  {
   "cell_type": "code",
   "execution_count": null,
   "metadata": {
    "colab": {
     "base_uri": "https://localhost:8080/"
    },
    "id": "oH05kuPi8fSA",
    "outputId": "69520d14-2be5-4977-b005-0a871d145163"
   },
   "outputs": [],
   "source": [
    "# Checking if the Outliers are removed\n",
    "print(df[(df['bathrooms'] > 100)])\n",
    "print(df[(df['bedrooms'] > 15)])"
   ]
  },
  {
   "cell_type": "code",
   "execution_count": null,
   "metadata": {
    "colab": {
     "base_uri": "https://localhost:8080/"
    },
    "id": "Age9ZSJ0f6Fe",
    "outputId": "4ce279e6-3a8c-4d8f-cc82-fb444a8bf2b9"
   },
   "outputs": [],
   "source": [
    "# Drop the 'id' column if it's not needed for clustering\n",
    "df.drop(['id', 'pets_allowed'],  axis=1, inplace=True)\n",
    "\n",
    "# Identify non-numeric columns\n",
    "non_numeric_columns = df.select_dtypes(exclude=['number']).columns\n",
    "print(\"Non-numeric columns in the dataset:\")\n",
    "print(non_numeric_columns)\n",
    "\n",
    "# Apply one-hot encoding using get_dummies for all categorical columns\n",
    "df = pd.get_dummies(df, columns=non_numeric_columns)\n",
    "\n",
    "# Check the updated DataFrame\n",
    "print(df.head())"
   ]
  },
  {
   "cell_type": "code",
   "execution_count": null,
   "metadata": {
    "colab": {
     "base_uri": "https://localhost:8080/",
     "height": 459
    },
    "id": "Fcm3S3QZcid9",
    "outputId": "5b000bb0-492a-4ad7-ab58-2fe8cb5f1322"
   },
   "outputs": [],
   "source": [
    "df.isna().sum()"
   ]
  },
  {
   "cell_type": "code",
   "execution_count": null,
   "metadata": {
    "id": "PgngTsEQeB6I"
   },
   "outputs": [],
   "source": [
    "# drop null values in latitude, longitude and State columns\n",
    "df.dropna(subset=['latitude', 'longitude'], inplace=True)"
   ]
  },
  {
   "cell_type": "code",
   "execution_count": null,
   "metadata": {
    "colab": {
     "base_uri": "https://localhost:8080/"
    },
    "id": "WWc_sMezeHVJ",
    "outputId": "d98fc8e8-e6c0-4288-e530-38515e3f68ac"
   },
   "outputs": [],
   "source": [
    "# Fill null values in 'bathrooms', 'bedrooms', and 'square_feet' with the mode\n",
    "for col in ['bathrooms', 'bedrooms', 'square_feet']:\n",
    "    mode_val = df[col].mode()[0]  # Get the mode (most frequent value)\n",
    "    df[col].fillna(mode_val, inplace=True)\n",
    "\n",
    "# Fill null values in 'price' with the mean\n",
    "mean_price = df['price'].mean()\n",
    "df['price'].fillna(mean_price, inplace=True)"
   ]
  },
  {
   "cell_type": "code",
   "execution_count": null,
   "metadata": {
    "colab": {
     "base_uri": "https://localhost:8080/",
     "height": 459
    },
    "id": "AOlmXawDdsYW",
    "outputId": "83ef5169-850f-4828-d061-58afd025d337"
   },
   "outputs": [],
   "source": [
    "df.isna().sum()"
   ]
  },
  {
   "cell_type": "code",
   "execution_count": null,
   "metadata": {
    "colab": {
     "base_uri": "https://localhost:8080/",
     "height": 256
    },
    "id": "Ya8wq2PNgMo2",
    "outputId": "255c71d3-36d0-4f97-bcd5-1475b5b5544f"
   },
   "outputs": [],
   "source": [
    "for col in df.select_dtypes(include=['bool']).columns:\n",
    "    df[col] = df[col].map({True: 1, False: 0})\n",
    "df.head()"
   ]
  },
  {
   "cell_type": "markdown",
   "metadata": {
    "id": "cVvWd7ffA3GJ"
   },
   "source": [
    "# Data Modeling"
   ]
  },
  {
   "cell_type": "markdown",
   "metadata": {
    "id": "dufpq4FnUOvX"
   },
   "source": [
    "## K-Means"
   ]
  },
  {
   "cell_type": "code",
   "execution_count": null,
   "metadata": {
    "colab": {
     "base_uri": "https://localhost:8080/",
     "height": 80
    },
    "id": "rc0DV3WLYkj1",
    "outputId": "f5b7161d-8cc7-47de-de3c-e2df0aee77e7"
   },
   "outputs": [],
   "source": [
    "# scale the dataset\n",
    "scaler = StandardScaler()\n",
    "data_scaled = scaler.fit_transform(df)\n",
    "# data_scaled = StandardScaler.fit_transformed(data)\n",
    "\n",
    "# create and train the model\n",
    "kmeans_model = KMeans(n_clusters=65, max_iter=50000)\n",
    "kmeans_model.fit(df)"
   ]
  },
  {
   "cell_type": "code",
   "execution_count": null,
   "metadata": {
    "id": "bO-PlFFMZluL"
   },
   "outputs": [],
   "source": [
    "centroids = kmeans_model.cluster_centers_ # centriods"
   ]
  },
  {
   "cell_type": "code",
   "execution_count": null,
   "metadata": {
    "id": "Lis5s3s7esmN"
   },
   "outputs": [],
   "source": [
    "clusters = kmeans_model.fit_predict(df) # Clusters"
   ]
  },
  {
   "cell_type": "code",
   "execution_count": null,
   "metadata": {
    "colab": {
     "base_uri": "https://localhost:8080/",
     "height": 448
    },
    "id": "5ntZ_rtxeubp",
    "outputId": "b33061bd-23a7-46a9-fea8-0713b1ea3d89"
   },
   "outputs": [],
   "source": [
    "# visulaize the clusters and centriods\n",
    "plt.scatter(x=df['price'], y=df['bedrooms'], c=clusters)\n",
    "\n",
    "# plot centriod for cluster 1\n",
    "plt.scatter(x=centroids[0, 0], y=centroids[0, 1], c='red', marker='X')\n",
    "# plot centriod for cluster 2\n",
    "plt.scatter(x=centroids[1,0], y=centroids[1,1], c='blue', marker='X')\n"
   ]
  },
  {
   "cell_type": "code",
   "execution_count": null,
   "metadata": {
    "colab": {
     "base_uri": "https://localhost:8080/",
     "height": 256
    },
    "id": "c7r48rDwe3D2",
    "outputId": "33eb0a53-c1a1-4ed9-e56d-7848cd59035a"
   },
   "outputs": [],
   "source": [
    "df_scaled = scaler.fit_transform(df)\n",
    "df_scaled = pd.DataFrame(data=df_scaled, columns=df.columns)\n",
    "df_scaled.head()"
   ]
  },
  {
   "cell_type": "code",
   "execution_count": null,
   "metadata": {
    "colab": {
     "base_uri": "https://localhost:8080/"
    },
    "id": "BCxG0NDTnt93",
    "outputId": "810aff16-c8fd-418d-9d5a-f8ed8be207bb"
   },
   "outputs": [],
   "source": [
    "#create and fit the PCA model\n",
    "pca_model = PCA(n_components=len(df_scaled.columns))\n",
    "pca_model.fit(df_scaled)\n",
    "df_components = pca_model.transform(df_scaled)\n",
    "df_components.shape"
   ]
  },
  {
   "cell_type": "code",
   "execution_count": null,
   "metadata": {
    "colab": {
     "base_uri": "https://localhost:8080/"
    },
    "id": "zVzt4ND1n_ne",
    "outputId": "6296e0d6-f719-414a-e2de-0acfc761dce3"
   },
   "outputs": [],
   "source": [
    "pca_model.explained_variance_"
   ]
  },
  {
   "cell_type": "code",
   "execution_count": null,
   "metadata": {
    "colab": {
     "base_uri": "https://localhost:8080/"
    },
    "id": "4EOkk7gKoCpe",
    "outputId": "cf21b6d9-3e8f-48f6-864d-3d512233eaf2"
   },
   "outputs": [],
   "source": [
    "pca_model.explained_variance_ratio_"
   ]
  },
  {
   "cell_type": "code",
   "execution_count": null,
   "metadata": {
    "colab": {
     "base_uri": "https://localhost:8080/",
     "height": 472
    },
    "id": "BWbXZHAZoaaR",
    "outputId": "c7d7570f-9e6f-4339-d9e5-835207a90472"
   },
   "outputs": [],
   "source": [
    "# Plotting Explained Varaince by Principal Component Gragh\n",
    "x_axis = range(1, len(pca_model.explained_variance_) + 1)\n",
    "\n",
    "plt.plot(x_axis, pca_model.explained_variance_, '*-')\n",
    "plt.xlabel('Principal Component')\n",
    "plt.ylabel('Explained Variance')\n",
    "plt.title('Explained Variance by Principal Component')\n",
    "plt.show()"
   ]
  },
  {
   "cell_type": "code",
   "execution_count": null,
   "metadata": {
    "colab": {
     "base_uri": "https://localhost:8080/",
     "height": 206
    },
    "id": "eA07OMSFoJBK",
    "outputId": "ba80dd33-b285-42a3-eb96-ab210a71069b"
   },
   "outputs": [],
   "source": [
    "df_pca = df_components[:, [0,1]]\n",
    "df_pca = pd.DataFrame(df_pca, columns=['PC1', 'PC2'])\n",
    "df_pca.head()"
   ]
  },
  {
   "cell_type": "code",
   "execution_count": null,
   "metadata": {
    "colab": {
     "base_uri": "https://localhost:8080/",
     "height": 80
    },
    "id": "iQ8fc1Hdosjj",
    "outputId": "b707d80b-2788-4c0a-dff1-57ef770eb9df"
   },
   "outputs": [],
   "source": [
    "# create and train the model\n",
    "kmeans_model_rock = KMeans(n_clusters=10, max_iter=500000)\n",
    "kmeans_model_rock.fit(df_pca)"
   ]
  },
  {
   "cell_type": "code",
   "execution_count": null,
   "metadata": {
    "colab": {
     "base_uri": "https://localhost:8080/",
     "height": 449
    },
    "id": "hbz_-t6Xo_8M",
    "outputId": "afabf045-3168-4b15-bc49-91ed68acda76"
   },
   "outputs": [],
   "source": [
    "centroids = kmeans_model_rock.cluster_centers_ # centriods\n",
    "clusters = kmeans_model_rock.fit_predict(df_pca) # Clusters\n",
    "\n",
    "# visulaize the clusters and centriods\n",
    "sns.scatterplot(data=df_pca, x='PC1', y='PC2', hue=clusters, style=clusters, palette='Set2')\n",
    "\n",
    "# Plot centroid for each cluster\n",
    "for i in range(len(centroids)):\n",
    "    plt.scatter(x=centroids[i, 0], y=centroids[i, 1], c='black', marker='X')"
   ]
  },
  {
   "cell_type": "markdown",
   "metadata": {
    "id": "LR1jnPN8per4"
   },
   "source": [
    "## Hierarcial Clustering"
   ]
  },
  {
   "cell_type": "code",
   "execution_count": null,
   "metadata": {
    "colab": {
     "base_uri": "https://localhost:8080/"
    },
    "id": "s-EMmKohzdqz",
    "outputId": "14108346-721d-4a2e-ffd7-2d9c268cf85d"
   },
   "outputs": [],
   "source": [
    "# Droping all the columns expect for price, bathrooms, bedrooms, square_feet\n",
    "\n",
    "# Select specific columns\n",
    "columns_to_keep = ['price', 'bathrooms', 'bedrooms', 'square_feet']\n",
    "df_scaled_hc= df_scaled[columns_to_keep]\n",
    "\n",
    "# Now df contains only the specified columns\n",
    "print(df_scaled_hc.head())"
   ]
  },
  {
   "cell_type": "code",
   "execution_count": null,
   "metadata": {
    "colab": {
     "base_uri": "https://localhost:8080/"
    },
    "id": "p_w353Xf2cNU",
    "outputId": "2711eb04-5839-45ad-f83e-5d5b64e25f27"
   },
   "outputs": [],
   "source": [
    "# select only first 1000 rows from the df_scaled_hc dataset.\n",
    "df_scaled_hc_first_1000 = df_scaled_hc.head(1000)\n",
    "df_scaled_hc_first_1000.shape"
   ]
  },
  {
   "cell_type": "code",
   "execution_count": null,
   "metadata": {
    "id": "XZVl_8LNrO4Q"
   },
   "outputs": [],
   "source": [
    "df_dist_matrix = pdist(df_scaled_hc_first_1000, metric='euclidean')"
   ]
  },
  {
   "cell_type": "code",
   "execution_count": null,
   "metadata": {
    "colab": {
     "base_uri": "https://localhost:8080/"
    },
    "id": "WWu2g6bW5Fmw",
    "outputId": "80fb5a86-4566-4195-804a-80a6b7e600cb"
   },
   "outputs": [],
   "source": [
    "df_dist_matrix"
   ]
  },
  {
   "cell_type": "markdown",
   "metadata": {
    "id": "Z474dEjc3TJp"
   },
   "source": [
    "### Complete Linkage"
   ]
  },
  {
   "cell_type": "code",
   "execution_count": null,
   "metadata": {
    "colab": {
     "base_uri": "https://localhost:8080/",
     "height": 54
    },
    "id": "8R2bFIvB48d8",
    "outputId": "6c62f831-11e7-4724-c788-58a06921e0df"
   },
   "outputs": [],
   "source": [
    "# Complete Linkage\n",
    "complete_linkage = linkage(df_dist_matrix, method='complete')\n",
    "dendrogram(complete_linkage, leaf_rotation = 90);"
   ]
  },
  {
   "cell_type": "code",
   "execution_count": null,
   "metadata": {
    "colab": {
     "base_uri": "https://localhost:8080/",
     "height": 54
    },
    "id": "Mr8O-nIAcIHg",
    "outputId": "9fe692d5-e45a-4711-cb31-178567c03788"
   },
   "outputs": [],
   "source": [
    "complete_p10 = dendrogram(complete_linkage, p=10, truncate_mode='level', leaf_rotation = 90);"
   ]
  },
  {
   "cell_type": "code",
   "execution_count": null,
   "metadata": {
    "colab": {
     "base_uri": "https://localhost:8080/",
     "height": 54
    },
    "id": "u08tKNG6cfsb",
    "outputId": "4bd1d398-5193-432d-94f4-42c15ac9ed27"
   },
   "outputs": [],
   "source": [
    "complete_p5 = dendrogram(complete_linkage, p=5, truncate_mode='level', leaf_rotation = 90);"
   ]
  },
  {
   "cell_type": "code",
   "execution_count": null,
   "metadata": {
    "colab": {
     "base_uri": "https://localhost:8080/",
     "height": 54
    },
    "id": "7rO6o3sycg4A",
    "outputId": "68a6f2f7-ee7a-4a33-ac90-4c6238b8ef0c"
   },
   "outputs": [],
   "source": [
    "complete_p3 = dendrogram(complete_linkage, p=3, truncate_mode='level', leaf_rotation = 90);"
   ]
  },
  {
   "cell_type": "markdown",
   "metadata": {
    "id": "E1wqyK0dc7ys"
   },
   "source": [
    "### Single Linkage"
   ]
  },
  {
   "cell_type": "code",
   "execution_count": null,
   "metadata": {
    "colab": {
     "base_uri": "https://localhost:8080/",
     "height": 54
    },
    "id": "YtrZNUaFcspd",
    "outputId": "25a798a1-e3a1-4c92-f079-93f087713299"
   },
   "outputs": [],
   "source": [
    "# Single Linkage\n",
    "single_linkage = linkage(df_dist_matrix, method='single')\n",
    "single_p10= dendrogram(single_linkage, p=10, truncate_mode='level', leaf_rotation = 90);"
   ]
  },
  {
   "cell_type": "code",
   "execution_count": null,
   "metadata": {
    "colab": {
     "base_uri": "https://localhost:8080/",
     "height": 54
    },
    "id": "fHXcI7HldDjY",
    "outputId": "2a757d4a-4abc-4f21-bdde-3e040a1b3b65"
   },
   "outputs": [],
   "source": [
    "single_p5= dendrogram(single_linkage, p=5, truncate_mode='level', leaf_rotation = 90);"
   ]
  },
  {
   "cell_type": "code",
   "execution_count": null,
   "metadata": {
    "colab": {
     "base_uri": "https://localhost:8080/",
     "height": 54
    },
    "id": "8gKpf12YdlTF",
    "outputId": "99bf1927-934b-4354-ce24-92da9ce4ac65"
   },
   "outputs": [],
   "source": [
    "single_p3= dendrogram(single_linkage, p=3, truncate_mode='level', leaf_rotation = 90);"
   ]
  },
  {
   "cell_type": "markdown",
   "metadata": {
    "id": "VAP5XiqeePC1"
   },
   "source": [
    "### Centroid Linkage"
   ]
  },
  {
   "cell_type": "code",
   "execution_count": null,
   "metadata": {
    "colab": {
     "base_uri": "https://localhost:8080/",
     "height": 54
    },
    "id": "46pYCESGdo_v",
    "outputId": "660649aa-6bef-4cce-93dd-3a55e40509ff"
   },
   "outputs": [],
   "source": [
    "# Centroid Linkage\n",
    "centroid_linkage = linkage(df_dist_matrix, method='centroid')\n",
    "centroid_p10 = dendrogram(centroid_linkage, p=10, truncate_mode='level', leaf_rotation = 90);"
   ]
  },
  {
   "cell_type": "code",
   "execution_count": null,
   "metadata": {
    "colab": {
     "base_uri": "https://localhost:8080/",
     "height": 54
    },
    "id": "OxY7VpfXfC9v",
    "outputId": "f1faab1d-943f-4b72-aed7-c43dbaee896c"
   },
   "outputs": [],
   "source": [
    "centroid_p5 = dendrogram(centroid_linkage, p=5, truncate_mode='level', leaf_rotation = 90);"
   ]
  },
  {
   "cell_type": "code",
   "execution_count": null,
   "metadata": {
    "colab": {
     "base_uri": "https://localhost:8080/",
     "height": 54
    },
    "id": "X7squRS6fGp0",
    "outputId": "c302d1d6-11d1-4784-b0ec-25b13d569789"
   },
   "outputs": [],
   "source": [
    "centroid_p3 = dendrogram(centroid_linkage, p=3, truncate_mode='level', leaf_rotation = 90);"
   ]
  },
  {
   "cell_type": "markdown",
   "metadata": {
    "id": "hBDTCmxyeiwA"
   },
   "source": [
    "### Average Linkage"
   ]
  },
  {
   "cell_type": "code",
   "execution_count": null,
   "metadata": {
    "colab": {
     "base_uri": "https://localhost:8080/",
     "height": 54
    },
    "id": "sfAgK5lIedu3",
    "outputId": "971ce710-3c13-4a44-b86b-279b7b6ff1f3"
   },
   "outputs": [],
   "source": [
    "# Average Linkage\n",
    "average_linkage = linkage(df_dist_matrix, method='average')\n",
    "average_p10 = dendrogram(average_linkage, p=10, truncate_mode='level', leaf_rotation = 90);"
   ]
  },
  {
   "cell_type": "code",
   "execution_count": null,
   "metadata": {
    "colab": {
     "base_uri": "https://localhost:8080/",
     "height": 54
    },
    "id": "uinDeNxCfMZz",
    "outputId": "cca17212-cbf9-45bd-d101-536178fa4995"
   },
   "outputs": [],
   "source": [
    "average_p5 = dendrogram(average_linkage, p=5, truncate_mode='level', leaf_rotation = 90);"
   ]
  },
  {
   "cell_type": "code",
   "execution_count": null,
   "metadata": {
    "colab": {
     "base_uri": "https://localhost:8080/",
     "height": 54
    },
    "id": "MBnJ4y-RfOLG",
    "outputId": "37bb4b1c-5d51-46ea-e1d4-f577a1ee2566"
   },
   "outputs": [],
   "source": [
    "average_p3 = dendrogram(average_linkage, p=3, truncate_mode='level', leaf_rotation = 90);"
   ]
  },
  {
   "cell_type": "markdown",
   "metadata": {
    "id": "nVxmDHtxerpm"
   },
   "source": [
    "### Ward Linkage"
   ]
  },
  {
   "cell_type": "code",
   "execution_count": null,
   "metadata": {
    "colab": {
     "base_uri": "https://localhost:8080/",
     "height": 54
    },
    "id": "aGn0dLpdeopY",
    "outputId": "1d0ac1d8-fbb8-407f-ebe6-581af5cc3f52"
   },
   "outputs": [],
   "source": [
    "# Ward Linkage\n",
    "ward_linkage = linkage(df_dist_matrix, method='ward')\n",
    "ward_p10 = dendrogram(ward_linkage, p=10, truncate_mode='level', leaf_rotation = 90);"
   ]
  },
  {
   "cell_type": "code",
   "execution_count": null,
   "metadata": {
    "colab": {
     "base_uri": "https://localhost:8080/",
     "height": 54
    },
    "id": "doO3iTZSez2N",
    "outputId": "ee359c14-4f62-4bdc-faef-a94ea59f3113"
   },
   "outputs": [],
   "source": [
    "ward_p5 = dendrogram(ward_linkage, p=5, truncate_mode='level', leaf_rotation = 90)"
   ]
  },
  {
   "cell_type": "code",
   "execution_count": null,
   "metadata": {
    "colab": {
     "base_uri": "https://localhost:8080/",
     "height": 54
    },
    "id": "KuPE_OcPfStE",
    "outputId": "291928e7-f215-47e4-9d98-ebd55035259a"
   },
   "outputs": [],
   "source": [
    "ward_p3 = dendrogram(ward_linkage, p=3, truncate_mode='level', leaf_rotation = 90)"
   ]
  },
  {
   "cell_type": "markdown",
   "metadata": {
    "id": "zWE2Irr6hss9"
   },
   "source": [
    "### Printing all dendrograms at once for comparing"
   ]
  },
  {
   "cell_type": "code",
   "execution_count": null,
   "metadata": {
    "colab": {
     "base_uri": "https://localhost:8080/",
     "height": 1000
    },
    "id": "V2_V1Ijok4__",
    "outputId": "b9ed3338-72eb-4b65-8fe4-02a542e83cb6"
   },
   "outputs": [],
   "source": [
    "# Creating Dendrogram list\n",
    "dendrogram_data = [\n",
    "    complete_p10,\n",
    "    complete_p5,\n",
    "    complete_p3,\n",
    "    single_p10,\n",
    "    single_p5,\n",
    "    single_p3,\n",
    "    centroid_p10,\n",
    "    centroid_p5,\n",
    "    centroid_p3,\n",
    "    average_p10,\n",
    "    average_p5,\n",
    "    average_p3,\n",
    "    ward_p10,\n",
    "    ward_p5,\n",
    "    ward_p3\n",
    "]\n",
    "\n",
    "# Titles for each dendrogram\n",
    "titles = [\n",
    "    \"Complete_Linkage_p10\",\n",
    "    \"Complete_Linkage_p5\",\n",
    "    \"Complete_Linkage_p3\",\n",
    "    \"Single_Linkage_p10\",\n",
    "    \"Single_Linkage_p5\",\n",
    "    \"Single_Linkage_p3\",\n",
    "    \"Centroid_Linkage_p10\",\n",
    "    \"Centroid_Linkage_p5\",\n",
    "    \"Centroid_Linkage_p\",\n",
    "    \"Average_Linkage_p10\",\n",
    "    \"Average_Linkage_p5\",\n",
    "    \"Average_Linkage_p3\",\n",
    "    \"Ward_Linkage_p10\",\n",
    "    \"Ward_Linkage_p5\",\n",
    "    \"Ward_Linkage_p3\"\n",
    "]\n",
    "\n",
    "# Calculate the number of rows needed\n",
    "num_rows = (len(dendrogram_data) + 2) // 3\n",
    "\n",
    "# Create subplots\n",
    "fig, axes = plt.subplots(nrows=num_rows, ncols=3, figsize=(15, 5 * num_rows))\n",
    "axes = axes.flatten()\n",
    "\n",
    "# p values to cycle through\n",
    "p_values = [10, 5, 3]\n",
    "\n",
    "# Loop through precomputed dendrograms, titles, and corresponding linkage matrices\n",
    "for i, (data, title, linkage_matrix) in enumerate(zip(dendrogram_data, titles,\n",
    "                                                     [complete_linkage, complete_linkage, complete_linkage,\n",
    "                                                      single_linkage, single_linkage, single_linkage,\n",
    "                                                      centroid_linkage, centroid_linkage, centroid_linkage,\n",
    "                                                      average_linkage, average_linkage, average_linkage,\n",
    "                                                      ward_linkage, ward_linkage, ward_linkage])):\n",
    "\n",
    "    # Get the current p value from the cycle\n",
    "    current_p = p_values[i % len(p_values)]\n",
    "\n",
    "    # Plot dendrogram\n",
    "    dendrogram(linkage_matrix,\n",
    "                ax=axes[i],\n",
    "                p=current_p,  # Use the current p value\n",
    "                truncate_mode='level',  # Truncate the dendrogram\n",
    "                leaf_rotation=90)\n",
    "\n",
    "    axes[i].set_title(title)\n",
    "\n",
    "# Hide any extra empty subplots\n",
    "for j in range(len(dendrogram_data), len(axes)):\n",
    "    axes[j].axis('off')\n",
    "\n",
    "# Adjust layout\n",
    "plt.tight_layout()\n",
    "plt.show()"
   ]
  }
 ],
 "metadata": {
  "colab": {
   "provenance": []
  },
  "kernelspec": {
   "display_name": "Python 3 (ipykernel)",
   "language": "python",
   "name": "python3"
  },
  "language_info": {
   "codemirror_mode": {
    "name": "ipython",
    "version": 3
   },
   "file_extension": ".py",
   "mimetype": "text/x-python",
   "name": "python",
   "nbconvert_exporter": "python",
   "pygments_lexer": "ipython3",
   "version": "3.11.5"
  }
 },
 "nbformat": 4,
 "nbformat_minor": 4
}
