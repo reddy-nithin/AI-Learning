{
 "cells": [
  {
   "cell_type": "markdown",
   "metadata": {
    "id": "ewnfLChEHPvZ"
   },
   "source": [
    "# Libraries for Handling Data"
   ]
  },
  {
   "cell_type": "code",
   "execution_count": 1,
   "metadata": {
    "id": "nltt1YyOFbqZ"
   },
   "outputs": [],
   "source": [
    "import numpy as np\n",
    "import matplotlib.pyplot as plt\n",
    "import seaborn as sns\n",
    "import matplotlib.pyplot as plt\n",
    "from matplotlib.pyplot import subplot\n",
    "import statsmodels.api as sm\n",
    "import pandas as pd"
   ]
  },
  {
   "cell_type": "markdown",
   "metadata": {
    "id": "x0NzeQFLGjDY"
   },
   "source": [
    "# Importing Classification Models"
   ]
  },
  {
   "cell_type": "code",
   "execution_count": 2,
   "metadata": {
    "id": "r6WXO9_PFyqR"
   },
   "outputs": [
    {
     "ename": "ModuleNotFoundError",
     "evalue": "No module named 'sklearn'",
     "output_type": "error",
     "traceback": [
      "\u001b[31m---------------------------------------------------------------------------\u001b[39m",
      "\u001b[31mModuleNotFoundError\u001b[39m                       Traceback (most recent call last)",
      "\u001b[36mCell\u001b[39m\u001b[36m \u001b[39m\u001b[32mIn[2]\u001b[39m\u001b[32m, line 1\u001b[39m\n\u001b[32m----> \u001b[39m\u001b[32m1\u001b[39m \u001b[38;5;28;01mfrom\u001b[39;00m\u001b[38;5;250m \u001b[39m\u001b[34;01msklearn\u001b[39;00m\u001b[34;01m.\u001b[39;00m\u001b[34;01mlinear_model\u001b[39;00m\u001b[38;5;250m \u001b[39m\u001b[38;5;28;01mimport\u001b[39;00m LogisticRegression \u001b[38;5;28;01mas\u001b[39;00m logReg\n\u001b[32m      2\u001b[39m \u001b[38;5;28;01mfrom\u001b[39;00m\u001b[38;5;250m \u001b[39m\u001b[34;01msklearn\u001b[39;00m\u001b[34;01m.\u001b[39;00m\u001b[34;01mdiscriminant_analysis\u001b[39;00m\u001b[38;5;250m \u001b[39m\u001b[38;5;28;01mimport\u001b[39;00m LinearDiscriminantAnalysis \u001b[38;5;28;01mas\u001b[39;00m lda\n\u001b[32m      3\u001b[39m \u001b[38;5;28;01mfrom\u001b[39;00m\u001b[38;5;250m \u001b[39m\u001b[34;01msklearn\u001b[39;00m\u001b[34;01m.\u001b[39;00m\u001b[34;01mnaive_bayes\u001b[39;00m\u001b[38;5;250m \u001b[39m\u001b[38;5;28;01mimport\u001b[39;00m GaussianNB \u001b[38;5;28;01mas\u001b[39;00m nb\n",
      "\u001b[31mModuleNotFoundError\u001b[39m: No module named 'sklearn'"
     ]
    }
   ],
   "source": [
    "from sklearn.linear_model import LogisticRegression as logReg\n",
    "from sklearn.discriminant_analysis import LinearDiscriminantAnalysis as lda\n",
    "from sklearn.naive_bayes import GaussianNB as nb\n",
    "from sklearn.neighbors import KNeighborsClassifier as knn"
   ]
  },
  {
   "cell_type": "markdown",
   "metadata": {
    "id": "XYQ13cOqHWcA"
   },
   "source": [
    "# Libraries for Spliting data into training and testing"
   ]
  },
  {
   "cell_type": "code",
   "execution_count": null,
   "metadata": {
    "id": "6p733SPsGiA4"
   },
   "outputs": [],
   "source": [
    "from sklearn.model_selection import train_test_split\n",
    "from sklearn.metrics import confusion_matrix, accuracy_score"
   ]
  },
  {
   "cell_type": "code",
   "execution_count": null,
   "metadata": {
    "colab": {
     "base_uri": "https://localhost:8080/",
     "height": 206
    },
    "id": "7G_9a6W-HCoL",
    "outputId": "ee14843f-901b-453d-b6a1-5726f4b869fd"
   },
   "outputs": [],
   "source": [
    "data = pd.read_csv('Default.csv')\n",
    "data.head()"
   ]
  },
  {
   "cell_type": "code",
   "execution_count": null,
   "metadata": {
    "colab": {
     "base_uri": "https://localhost:8080/"
    },
    "id": "1UCGXBerHm38",
    "outputId": "53808a93-1350-4d64-aad3-cc9814a4ce57"
   },
   "outputs": [],
   "source": [
    "data.student.unique()"
   ]
  },
  {
   "cell_type": "code",
   "execution_count": null,
   "metadata": {
    "colab": {
     "base_uri": "https://localhost:8080/",
     "height": 206
    },
    "id": "AxwxoRI_IGL6",
    "outputId": "6191cc21-72c8-44eb-b7f8-b2466ec4e194"
   },
   "outputs": [],
   "source": [
    "data['student'].replace(['Yes','No'],[1,0], inplace=True)\n",
    "data.head()"
   ]
  },
  {
   "cell_type": "code",
   "execution_count": null,
   "metadata": {
    "colab": {
     "base_uri": "https://localhost:8080/",
     "height": 206
    },
    "id": "6ch2eIvfIY21",
    "outputId": "32031980-199c-4901-a0ea-f12c891259a9"
   },
   "outputs": [],
   "source": [
    "data['default'].replace(['Yes','No'],[1,0], inplace=True)\n",
    "data.head()"
   ]
  },
  {
   "cell_type": "code",
   "execution_count": null,
   "metadata": {
    "id": "Tb_ZskRUI8kZ"
   },
   "outputs": [],
   "source": [
    "\n",
    "def analyze_column(data, column, target_column):\n",
    "  \"\"\"Analyze a single column against the target.\"\"\"\n",
    "  # Scatter plot\n",
    "  plt.figure(figsize=(8, 6))\n",
    "  sns.scatterplot(data=data, x=column, y=target_column)\n",
    "  plt.title(f'{column} vs {target_column}')\n",
    "  plt.xlabel(column)\n",
    "  plt.ylabel(target_column)\n",
    "  plt.show()\n",
    "\n",
    "  # Box plot\n",
    "  plt.figure(figsize=(8, 6))\n",
    "  sns.boxplot(data=data, x=target_column, y=column)\n",
    "  plt.title(f'{column} vs {target_column}')\n",
    "  plt.xlabel(target_column)\n",
    "  plt.ylabel(column)\n",
    "  plt.show()\n",
    "\n",
    "  # # Histogram\n",
    "  plt.figure(figsize=(8, 6))\n",
    "  sns.histplot(data[column], kde=True)\n",
    "  plt.title(f'{column} Distribution')\n",
    "  plt.xlabel(column)\n",
    "  plt.ylabel('Frequency')\n",
    "  plt.show()\n",
    "\n",
    "  # Correlation\n",
    "  correlation = data[[column, target_column]].corr().iloc[0, 1]\n",
    "  print(f'Correlation between {column} and {target_column}: {correlation}')\n",
    "\n",
    "def analyze_all_columns(data, target_column):\n",
    "  \"\"\"Analyze all columns against the target.\"\"\"\n",
    "  feature_columns = [col for col in data.columns if col != target_column]\n",
    "  for column in feature_columns:\n",
    "    analyze_column(data, column, target_column)\n",
    "\n",
    "def residuals_plot(model):\n",
    "  ax = subplots(figsize=(8,8))[1]\n",
    "  ax.scatter(model.fittedvalues, model.resid)\n",
    "  ax.set_xlabel('Fitted value')\n",
    "  ax.set_ylabel('Residual')\n",
    "  ax.axhline(0, c='k', ls='--');\n"
   ]
  },
  {
   "cell_type": "code",
   "execution_count": null,
   "metadata": {
    "colab": {
     "base_uri": "https://localhost:8080/",
     "height": 1000
    },
    "id": "xdOjZ3ioJqc6",
    "outputId": "2f17a8fb-bdd3-4edd-e132-016694fd8155"
   },
   "outputs": [],
   "source": [
    "analyze_all_columns(data, 'default')"
   ]
  },
  {
   "cell_type": "code",
   "execution_count": null,
   "metadata": {
    "id": "ClE5fzgWJ9qe"
   },
   "outputs": [],
   "source": [
    "X = data.drop('default', axis=1)\n",
    "y = data['default']\n"
   ]
  },
  {
   "cell_type": "markdown",
   "metadata": {
    "id": "d-JHiCy7K12H"
   },
   "source": [
    "# Spliting data into Train and Test"
   ]
  },
  {
   "cell_type": "code",
   "execution_count": null,
   "metadata": {
    "colab": {
     "base_uri": "https://localhost:8080/"
    },
    "id": "ybAXctbsK0zk",
    "outputId": "94022c50-6869-4d87-be95-3e1e222f3ac8"
   },
   "outputs": [],
   "source": [
    "X_train, X_test, y_train, y_test = train_test_split(X,y, test_size=0.2, random_state=1)\n",
    "print(X_train.shape)\n",
    "print(y_train.shape)\n",
    "\n",
    "print(X_test.shape)\n",
    "print(y_test.shape)"
   ]
  },
  {
   "cell_type": "markdown",
   "metadata": {
    "id": "v-v8dpCJNDYI"
   },
   "source": [
    "# Logistic Regression"
   ]
  },
  {
   "cell_type": "code",
   "execution_count": null,
   "metadata": {
    "colab": {
     "base_uri": "https://localhost:8080/"
    },
    "id": "C_TEjaWlLjWR",
    "outputId": "c8ea97a1-f5a1-4581-e430-7b1143f99dde"
   },
   "outputs": [],
   "source": [
    "X_train_logReg = sm.add_constant(X_train)\n",
    "X_test_logReg = sm.add_constant(X_test)\n",
    "\n",
    "print(X_train_logReg.shape)\n",
    "print(X_test_logReg.shape)"
   ]
  },
  {
   "cell_type": "code",
   "execution_count": null,
   "metadata": {
    "colab": {
     "base_uri": "https://localhost:8080/",
     "height": 206
    },
    "id": "Q2gqBx4kNj4Y",
    "outputId": "3550452b-a93d-4eb4-b7ec-50e890653fe7"
   },
   "outputs": [],
   "source": [
    "X_train_logReg.head()"
   ]
  },
  {
   "cell_type": "code",
   "execution_count": null,
   "metadata": {
    "colab": {
     "base_uri": "https://localhost:8080/"
    },
    "id": "6p_7b00pNvu8",
    "outputId": "c41b8843-d5ad-4dbe-aada-8e30d5b6693c"
   },
   "outputs": [],
   "source": [
    "logRegModel = sm.Logit(y_train, X_train_logReg).fit() # fit is to create and train at the same time\n",
    "print(logRegModel.summary())"
   ]
  },
  {
   "cell_type": "code",
   "execution_count": null,
   "metadata": {
    "colab": {
     "base_uri": "https://localhost:8080/"
    },
    "id": "5t0_2izcOGqj",
    "outputId": "5f5d628f-ec43-4cc2-d85f-914343383811"
   },
   "outputs": [],
   "source": [
    "y_hat = logRegModel.predict(X_test_logReg)\n",
    "print(y_hat[:5])"
   ]
  },
  {
   "cell_type": "code",
   "execution_count": null,
   "metadata": {
    "colab": {
     "base_uri": "https://localhost:8080/"
    },
    "id": "-qLL6AK1Oy9U",
    "outputId": "e0f6b234-f483-41de-95c4-aa8ef7ab6452"
   },
   "outputs": [],
   "source": [
    "preds = np.where(y_hat > 0.5, 1, 0)\n",
    "print(preds[:5])"
   ]
  },
  {
   "cell_type": "code",
   "execution_count": null,
   "metadata": {
    "colab": {
     "base_uri": "https://localhost:8080/"
    },
    "id": "LvuO9E_UPE0e",
    "outputId": "ddcb4ff7-f606-4936-da75-1ca6635b42cb"
   },
   "outputs": [],
   "source": [
    "print(y_test[:5])"
   ]
  },
  {
   "cell_type": "code",
   "execution_count": null,
   "metadata": {
    "colab": {
     "base_uri": "https://localhost:8080/"
    },
    "id": "XKKd8ZGxPL4O",
    "outputId": "988e5c58-e421-4031-93b5-608ff98e7033"
   },
   "outputs": [],
   "source": [
    "print(accuracy_score(y_test, preds))"
   ]
  },
  {
   "cell_type": "code",
   "execution_count": null,
   "metadata": {
    "colab": {
     "base_uri": "https://localhost:8080/"
    },
    "id": "S9ixnebMPaTX",
    "outputId": "3dc6dddc-c62c-4a8d-dd20-fbce668467df"
   },
   "outputs": [],
   "source": [
    "print(confusion_matrix(y_test, preds))"
   ]
  },
  {
   "cell_type": "markdown",
   "metadata": {
    "id": "kcGf2z742dgH"
   },
   "source": [
    "# Linear Discriminant Analysis"
   ]
  },
  {
   "cell_type": "code",
   "execution_count": null,
   "metadata": {
    "colab": {
     "base_uri": "https://localhost:8080/"
    },
    "id": "cAulwTbmPiVl",
    "outputId": "b9cb2de8-9f3b-452f-a869-ac68c45c4e72"
   },
   "outputs": [],
   "source": [
    "lda_model = lda(store_covariance=True).fit(X_train, y_train) #create the model\n",
    "# lda_model = lda().fit(X_train, y_train) # fit or train the model\n",
    "preds = lda_model.predict(X_test) #  make predictions on the test data\n",
    "print(accuracy_score(y_test, preds)) # show the test accuracy\n",
    "print(confusion_matrix(y_test, preds))  # show the confusion matrix"
   ]
  },
  {
   "cell_type": "markdown",
   "metadata": {
    "id": "xiOaUpWe4wWC"
   },
   "source": [
    "# Naive Bayes"
   ]
  },
  {
   "cell_type": "code",
   "execution_count": null,
   "metadata": {
    "colab": {
     "base_uri": "https://localhost:8080/"
    },
    "id": "cwtaKoe63vjt",
    "outputId": "e88083f5-9241-4e40-8a38-aa4a3765c216"
   },
   "outputs": [],
   "source": [
    " #create the model\n",
    "nb_model = nb().fit(X_train, y_train) # fit or train the model\n",
    "preds = nb_model.predict(X_test) #  make predictions on the test data\n",
    "print(accuracy_score(y_test, preds)) # show the test accuracy\n",
    "print(confusion_matrix(y_test, preds))  # show the confusion matrix"
   ]
  },
  {
   "cell_type": "markdown",
   "metadata": {
    "id": "OsaJdUHc5rG6"
   },
   "source": [
    "# K Nearest Neighbours\n",
    "\n",
    "Two disadvantages\n",
    ": We need decide the no. of neighbours to consider\n",
    ": Highly sensitive with outliners, always remove them before performing."
   ]
  },
  {
   "cell_type": "code",
   "execution_count": null,
   "metadata": {
    "colab": {
     "base_uri": "https://localhost:8080/"
    },
    "id": "8hTFF30L5B1_",
    "outputId": "2a376d84-2d72-4fb1-f1b2-8c769272883b"
   },
   "outputs": [],
   "source": [
    "knn_model1 = knn(n_neighbors=3) #create the model\n",
    "knn_model1.fit(X_train, y_train)   # fit or train the model\n",
    "preds = knn_model1.predict(X_test) #  make predictions on the test data\n",
    "print(accuracy_score(y_test, preds)) # show the test accuracy\n",
    "print(confusion_matrix(y_test, preds))  # show the confusion matrix"
   ]
  },
  {
   "cell_type": "code",
   "execution_count": null,
   "metadata": {
    "colab": {
     "base_uri": "https://localhost:8080/"
    },
    "id": "TiJFzRIT7_0K",
    "outputId": "aa034a59-3c97-45e0-e00a-91a304e52260"
   },
   "outputs": [],
   "source": [
    "knn_model2 = knn(n_neighbors=5) #create the model\n",
    "knn_model2.fit(X_train, y_train)   # fit or train the model\n",
    "preds = knn_model2.predict(X_test) #  make predictions on the test data\n",
    "print(accuracy_score(y_test, preds)) # show the test accuracy\n",
    "print(confusion_matrix(y_test, preds))  # show the confusion matrix"
   ]
  },
  {
   "cell_type": "code",
   "execution_count": null,
   "metadata": {
    "colab": {
     "base_uri": "https://localhost:8080/"
    },
    "id": "x0ZwGtKB8Ka2",
    "outputId": "f3310187-f998-415b-ecf4-1343e99bf7ec"
   },
   "outputs": [],
   "source": [
    "knn_model3 = knn(n_neighbors=7) #create the model\n",
    "knn_model3.fit(X_train, y_train)   # fit or train the model\n",
    "preds = knn_model3.predict(X_test) #  make predictions on the test data\n",
    "print(accuracy_score(y_test, preds)) # show the test accuracy\n",
    "print(confusion_matrix(y_test, preds))  # show the confusion matrix"
   ]
  },
  {
   "cell_type": "code",
   "execution_count": null,
   "metadata": {
    "colab": {
     "base_uri": "https://localhost:8080/"
    },
    "id": "xnlNuJlJ8Q_T",
    "outputId": "13067807-a7ac-42ee-c0ee-16e157fa8b71"
   },
   "outputs": [],
   "source": [
    "for k in range(1,20, 2):\n",
    "  knn_model= knn(n_neighbors=k)\n",
    "  knn_model.fit(X_train, y_train)\n",
    "  preds = knn_model.predict(X_test)\n",
    "  print(f'Accuracy score when k = {k} : {accuracy_score(y_test, preds)}')\n",
    "  print(f'Confusion Matrix when k = {k} : \\n{confusion_matrix(y_test, preds)}\\n')"
   ]
  },
  {
   "cell_type": "markdown",
   "metadata": {
    "id": "F_AaKykM-bgV"
   },
   "source": [
    "\n",
    "\n",
    "1.   Select the best KNN model and Justify your selection\n",
    "2.   Select the best classification model for the Default dataset and Justify your answer. Note: You want to select the model that can balance both the default and not default predictions\n",
    "\n",
    "\n"
   ]
  },
  {
   "cell_type": "markdown",
   "metadata": {
    "id": "4g9C-Pxe_DZr"
   },
   "source": [
    "ICP Answers: Nithin Songala 16344141\n",
    "\n",
    "\n",
    "\n",
    "1.   The best KNN according to me is the one with **N_Neighbours as 5**. Because when you look and compare the confusion matrix with other ones , Knn with 5 neighbours is more balanced with positives and Negatives as well. It has the maximum no. of correct predictions as well the proper ratio for wrong predictions.\n",
    "\n",
    "2.   The best classification model for default dataset is **Naive Bayes.** Because compred to other models, navie bayes has more correct predictions and also proper ratio of wrong predictions. This model can balance both deafult and non-default predictions.\n",
    "The second best model would be **Logistic Regression.**\n",
    "\n"
   ]
  }
 ],
 "metadata": {
  "colab": {
   "provenance": []
  },
  "kernelspec": {
   "display_name": "Python 3 (ipykernel)",
   "language": "python",
   "name": "python3"
  },
  "language_info": {
   "codemirror_mode": {
    "name": "ipython",
    "version": 3
   },
   "file_extension": ".py",
   "mimetype": "text/x-python",
   "name": "python",
   "nbconvert_exporter": "python",
   "pygments_lexer": "ipython3",
   "version": "3.11.5"
  }
 },
 "nbformat": 4,
 "nbformat_minor": 4
}
